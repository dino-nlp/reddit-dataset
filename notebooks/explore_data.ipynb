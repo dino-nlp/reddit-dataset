{
 "cells": [
  {
   "cell_type": "code",
   "execution_count": 4,
   "metadata": {
    "collapsed": true,
    "ExecuteTime": {
     "start_time": "2023-04-28T08:53:56.442492Z",
     "end_time": "2023-04-28T08:53:56.445521Z"
    }
   },
   "outputs": [],
   "source": [
    "import datasets\n",
    "import pandas as pd"
   ]
  },
  {
   "cell_type": "code",
   "execution_count": 5,
   "outputs": [
    {
     "name": "stderr",
     "output_type": "stream",
     "text": [
      "Found cached dataset glue (/Users/ngothai/.cache/huggingface/datasets/glue/mrpc/1.0.0/dacbe3125aa31d7f70367a07a8a9e72a5a0bfeb5fc42e75c9db75b96da6053ad)\n"
     ]
    },
    {
     "data": {
      "text/plain": "Dataset({\n    features: ['sentence1', 'sentence2', 'label', 'idx'],\n    num_rows: 3668\n})"
     },
     "execution_count": 5,
     "metadata": {},
     "output_type": "execute_result"
    }
   ],
   "source": [
    "train = datasets.load_dataset(\"glue\", \"mrpc\", split=\"train\")\n",
    "train"
   ],
   "metadata": {
    "collapsed": false,
    "ExecuteTime": {
     "start_time": "2023-04-28T08:53:58.415459Z",
     "end_time": "2023-04-28T08:54:01.437679Z"
    }
   }
  },
  {
   "cell_type": "code",
   "execution_count": 6,
   "outputs": [
    {
     "data": {
      "text/plain": "                                           sentence1  \\\n0  Amrozi accused his brother , whom he called \" ...   \n1  Yucaipa owned Dominick 's before selling the c...   \n2  They had published an advertisement on the Int...   \n3  Around 0335 GMT , Tab shares were up 19 cents ...   \n4  The stock rose $ 2.11 , or about 11 percent , ...   \n\n                                           sentence2  label  idx  \n0  Referring to him as only \" the witness \" , Amr...      1    0  \n1  Yucaipa bought Dominick 's in 1995 for $ 693 m...      0    1  \n2  On June 10 , the ship 's owners had published ...      1    2  \n3  Tab shares jumped 20 cents , or 4.6 % , to set...      0    3  \n4  PG & E Corp. shares jumped $ 1.63 or 8 percent...      1    4  ",
      "text/html": "<div>\n<style scoped>\n    .dataframe tbody tr th:only-of-type {\n        vertical-align: middle;\n    }\n\n    .dataframe tbody tr th {\n        vertical-align: top;\n    }\n\n    .dataframe thead th {\n        text-align: right;\n    }\n</style>\n<table border=\"1\" class=\"dataframe\">\n  <thead>\n    <tr style=\"text-align: right;\">\n      <th></th>\n      <th>sentence1</th>\n      <th>sentence2</th>\n      <th>label</th>\n      <th>idx</th>\n    </tr>\n  </thead>\n  <tbody>\n    <tr>\n      <th>0</th>\n      <td>Amrozi accused his brother , whom he called \" ...</td>\n      <td>Referring to him as only \" the witness \" , Amr...</td>\n      <td>1</td>\n      <td>0</td>\n    </tr>\n    <tr>\n      <th>1</th>\n      <td>Yucaipa owned Dominick 's before selling the c...</td>\n      <td>Yucaipa bought Dominick 's in 1995 for $ 693 m...</td>\n      <td>0</td>\n      <td>1</td>\n    </tr>\n    <tr>\n      <th>2</th>\n      <td>They had published an advertisement on the Int...</td>\n      <td>On June 10 , the ship 's owners had published ...</td>\n      <td>1</td>\n      <td>2</td>\n    </tr>\n    <tr>\n      <th>3</th>\n      <td>Around 0335 GMT , Tab shares were up 19 cents ...</td>\n      <td>Tab shares jumped 20 cents , or 4.6 % , to set...</td>\n      <td>0</td>\n      <td>3</td>\n    </tr>\n    <tr>\n      <th>4</th>\n      <td>The stock rose $ 2.11 , or about 11 percent , ...</td>\n      <td>PG &amp; E Corp. shares jumped $ 1.63 or 8 percent...</td>\n      <td>1</td>\n      <td>4</td>\n    </tr>\n  </tbody>\n</table>\n</div>"
     },
     "execution_count": 6,
     "metadata": {},
     "output_type": "execute_result"
    }
   ],
   "source": [
    "data = pd.DataFrame(train)\n",
    "data.head()\n"
   ],
   "metadata": {
    "collapsed": false,
    "ExecuteTime": {
     "start_time": "2023-04-28T08:54:34.333894Z",
     "end_time": "2023-04-28T08:54:34.525006Z"
    }
   }
  },
  {
   "cell_type": "code",
   "execution_count": 7,
   "outputs": [
    {
     "data": {
      "text/plain": "1    2474\n0    1194\nName: label, dtype: int64"
     },
     "execution_count": 7,
     "metadata": {},
     "output_type": "execute_result"
    }
   ],
   "source": [
    "data['label'].value_counts()"
   ],
   "metadata": {
    "collapsed": false,
    "ExecuteTime": {
     "start_time": "2023-04-28T08:55:01.124419Z",
     "end_time": "2023-04-28T08:55:01.134589Z"
    }
   }
  },
  {
   "cell_type": "code",
   "execution_count": 8,
   "outputs": [
    {
     "data": {
      "text/plain": "<Axes: >"
     },
     "execution_count": 8,
     "metadata": {},
     "output_type": "execute_result"
    },
    {
     "data": {
      "text/plain": "<Figure size 640x480 with 1 Axes>",
      "image/png": "[encoded data removed]"
     },
     "metadata": {},
     "output_type": "display_data"
    }
   ],
   "source": [
    "data['label'].value_counts().plot(kind='bar')"
   ],
   "metadata": {
    "collapsed": false,
    "ExecuteTime": {
     "start_time": "2023-04-28T08:55:12.472050Z",
     "end_time": "2023-04-28T08:55:13.188805Z"
    }
   }
  },
  {
   "cell_type": "code",
   "execution_count": 10,
   "outputs": [
    {
     "data": {
      "text/plain": "count    3668.000000\nmean       21.942748\nstd         5.652079\nmin         7.000000\n25%        18.000000\n50%        22.000000\n75%        26.000000\nmax        39.000000\nName: sentence1, dtype: float64"
     },
     "execution_count": 10,
     "metadata": {},
     "output_type": "execute_result"
    }
   ],
   "source": [
    "sentence1_len = data['sentence1'].map(lambda x: len(x.split()))\n",
    "sentence2_len = data['sentence2'].map(lambda x: len(x.split()))\n",
    "\n",
    "sentence1_len.describe()"
   ],
   "metadata": {
    "collapsed": false,
    "ExecuteTime": {
     "start_time": "2023-04-28T08:56:16.033437Z",
     "end_time": "2023-04-28T08:56:16.052439Z"
    }
   }
  },
  {
   "cell_type": "code",
   "execution_count": 11,
   "outputs": [
    {
     "data": {
      "text/plain": "count    3668.000000\nmean       21.946565\nstd         5.652358\nmin         8.000000\n25%        18.000000\n50%        22.000000\n75%        26.000000\nmax        42.000000\nName: sentence2, dtype: float64"
     },
     "execution_count": 11,
     "metadata": {},
     "output_type": "execute_result"
    }
   ],
   "source": [
    "sentence2_len.describe()"
   ],
   "metadata": {
    "collapsed": false,
    "ExecuteTime": {
     "start_time": "2023-04-28T08:56:23.275397Z",
     "end_time": "2023-04-28T08:56:23.283520Z"
    }
   }
  },
  {
   "cell_type": "code",
   "execution_count": null,
   "outputs": [],
   "source": [],
   "metadata": {
    "collapsed": false
   }
  }
 ],
 "metadata": {
  "kernelspec": {
   "display_name": "Python 3",
   "language": "python",
   "name": "python3"
  },
  "language_info": {
   "codemirror_mode": {
    "name": "ipython",
    "version": 2
   },
   "file_extension": ".py",
   "mimetype": "text/x-python",
   "name": "python",
   "nbconvert_exporter": "python",
   "pygments_lexer": "ipython2",
   "version": "2.7.6"
  }
 },
 "nbformat": 4,
 "nbformat_minor": 0
}
